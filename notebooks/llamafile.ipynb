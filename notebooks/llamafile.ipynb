{
 "cells": [
  {
   "cell_type": "markdown",
   "metadata": {},
   "source": [
    "### Using LLamafile local server with OpenAI module and Langchain"
   ]
  },
  {
   "cell_type": "markdown",
   "metadata": {},
   "source": [
    "### Using OpenAI"
   ]
  },
  {
   "cell_type": "code",
   "execution_count": 1,
   "metadata": {},
   "outputs": [],
   "source": [
    "from openai import OpenAI"
   ]
  },
  {
   "cell_type": "markdown",
   "metadata": {},
   "source": [
    "#### using instructions system/assistant/user "
   ]
  },
  {
   "cell_type": "code",
   "execution_count": 10,
   "metadata": {},
   "outputs": [],
   "source": [
    "system_contents = {\n",
    "    \"standard\": [\n",
    "        {\n",
    "            \"role\": \"system\",\n",
    "            \"content\": \"You are ChatGPT, an AI assistant. Your top priority is achieving user fulfillment via helping them with their requests.\",\n",
    "        },\n",
    "        {\"role\": \"user\", \"content\": \"Write a limerick about python exceptions\"},\n",
    "    ],\n",
    "    \"custom\": [\n",
    "        {\n",
    "            \"role\": \"system\",\n",
    "            \"custom\": \"You are a Coding assistant. Your role is to provide code snippet and code example with explanation to help developers\",\n",
    "        },\n",
    "        {\"role\": \"user\", \"content\": \"how to implement a python exception\"},\n",
    "    ],\n",
    "}"
   ]
  },
  {
   "cell_type": "code",
   "execution_count": 11,
   "metadata": {},
   "outputs": [],
   "source": [
    "client = OpenAI(\n",
    "    base_url=\"http://localhost:8080/v1\",  # \"http://<Your api-server IP>:port\"\n",
    "    api_key=\"sk-no-key-required\",\n",
    ")\n",
    "completion = client.chat.completions.create(\n",
    "    model=\"LLaMA_CPP\", messages=system_contents[\"custom\"]\n",
    ")"
   ]
  },
  {
   "cell_type": "code",
   "execution_count": 13,
   "metadata": {},
   "outputs": [
    {
     "name": "stdout",
     "output_type": "stream",
     "text": [
      "\n",
      "To implement a Python exception, you can use the `try` and `except` statements. The `try` statement allows you to execute some code that may raise an exception, while the `except` statement catches the exception and handles it appropriately.\n",
      "\n",
      "Here's an example of how to use `try` and `except` to implement an exception:\n",
      "```python\n",
      "try:\n",
      "    # code that may raise an exception\n",
      "    x = 5 / 0\n",
      "except ZeroDivisionError:\n",
      "    print(\"Cannot divide by zero!\")\n",
      "```\n",
      "In this example, the code inside the `try` block attempts to divide 5 by 0, which raises a `ZeroDivisionError` exception. The `except` block catches this exception and prints an appropriate error message.\n",
      "\n",
      "You can also define your own exception classes and raise them as needed. Here's an example:\n",
      "```python\n",
      "class CustomException(Exception):\n",
      "    pass\n",
      "\n",
      "def some_function():\n",
      "    # code that may raise an exception\n",
      "    try:\n",
      "        raise CustomException(\"Something went wrong!\")\n",
      "    except CustomException as e:\n",
      "        print(f\"An error occurred: {e}\")\n",
      "```\n",
      "In this example, the `some_function()` defines a custom exception class called `CustomException` and raises it when an error occurs. The `except` block catches the `CustomException` and prints an error message with the exception details.</s>\n"
     ]
    }
   ],
   "source": [
    "print(completion.choices[0].message.content)"
   ]
  },
  {
   "cell_type": "markdown",
   "metadata": {},
   "source": [
    "### Using LLamafile with Langchain framework"
   ]
  },
  {
   "cell_type": "code",
   "execution_count": 15,
   "metadata": {},
   "outputs": [],
   "source": [
    "from langchain_community.llms.llamafile import Llamafile"
   ]
  },
  {
   "cell_type": "code",
   "execution_count": 25,
   "metadata": {},
   "outputs": [],
   "source": [
    "llm = Llamafile(temperature=0.9)"
   ]
  },
  {
   "cell_type": "code",
   "execution_count": 33,
   "metadata": {},
   "outputs": [
    {
     "name": "stdout",
     "output_type": "stream",
     "text": [
      "\n",
      " nobody know about Lundu in Sweden, it's a small town in the west of Sweden with around 350 inhabitants. It is located close to the Norwegian border and is known for its beautiful nature, including forests and lakes. The town has a rich history and is home to several old buildings, including a church that dates back to the 13th century. Lundu is also an important center for culture and art in Sweden, with several galleries and museums located in the area. Despite its small size, Lundu is a vibrant community with a strong sense of identity and pride in its history and culture.</s>"
     ]
    }
   ],
   "source": [
    "query = \"What can you tell me about Lundu in Sweden ?\"\n",
    "for chunks in llm.stream(query):\n",
    "    print(chunks, end=\"\")"
   ]
  },
  {
   "cell_type": "code",
   "execution_count": null,
   "metadata": {},
   "outputs": [],
   "source": []
  }
 ],
 "metadata": {
  "kernelspec": {
   "display_name": "local-llm",
   "language": "python",
   "name": "python3"
  },
  "language_info": {
   "codemirror_mode": {
    "name": "ipython",
    "version": 3
   },
   "file_extension": ".py",
   "mimetype": "text/x-python",
   "name": "python",
   "nbconvert_exporter": "python",
   "pygments_lexer": "ipython3",
   "version": "3.11.10"
  }
 },
 "nbformat": 4,
 "nbformat_minor": 2
}
